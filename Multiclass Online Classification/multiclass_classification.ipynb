{
 "cells": [
  {
   "cell_type": "code",
   "execution_count": 3,
   "metadata": {},
   "outputs": [
    {
     "data": {
      "text/plain": [
       "Image segments classification.\n",
       "\n",
       "This dataset contains features that describe image segments into 7 classes: brickface, sky,\n",
       "foliage, cement, window, path, and grass.\n",
       "\n",
       "    Name  ImageSegments                                                                      \n",
       "    Task  Multi-class classification                                                         \n",
       " Samples  2,310                                                                              \n",
       "Features  18                                                                                 \n",
       "  Sparse  False                                                                              \n",
       "    Path  /Users/alp/opt/anaconda3/lib/python3.9/site-packages/river/datasets/segment.csv.zip"
      ]
     },
     "execution_count": 3,
     "metadata": {},
     "output_type": "execute_result"
    }
   ],
   "source": [
    "from river import datasets\n",
    "from river import tree\n",
    "from river import metrics\n",
    "from river import evaluate\n",
    "from pprint import pprint\n",
    "\n",
    "dataset = datasets.ImageSegments()\n",
    "dataset"
   ]
  },
  {
   "cell_type": "code",
   "execution_count": 5,
   "metadata": {},
   "outputs": [
    {
     "name": "stdout",
     "output_type": "stream",
     "text": [
      "{'exblue-mean': 46.77778,\n",
      " 'exgreen-mean': -25.222220999999998,\n",
      " 'exred-mean': -21.555555,\n",
      " 'hedge-mean': 1.1111094,\n",
      " 'hedge-sd': 0.5443307,\n",
      " 'hue-mean': -2.0405545,\n",
      " 'intensity-mean': 59.629630000000006,\n",
      " 'rawblue-mean': 75.22222,\n",
      " 'rawgreen-mean': 51.22222,\n",
      " 'rawred-mean': 52.44444300000001,\n",
      " 'region-centroid-col': 218,\n",
      " 'region-centroid-row': 178,\n",
      " 'saturation-mean': 0.31899637,\n",
      " 'short-line-density-2': 0.0,\n",
      " 'short-line-density-5': 0.11111111,\n",
      " 'value-mean': 75.22222,\n",
      " 'vedge-mean': 0.8333326999999999,\n",
      " 'vegde-sd': 0.54772234}\n",
      "'path'\n"
     ]
    }
   ],
   "source": [
    "# Look at the first sample\n",
    "for x, y in dataset:\n",
    "    pass\n",
    "\n",
    "x, y = next(iter(dataset))\n",
    "pprint(x)\n",
    "pprint(y)"
   ]
  },
  {
   "cell_type": "code",
   "execution_count": 2,
   "metadata": {},
   "outputs": [
    {
     "data": {
      "text/plain": [
       "            Precision   Recall   F1       Support  \n",
       "                                                   \n",
       "brickface      77.13%   84.85%   80.81%       330  \n",
       "   cement      78.92%   83.94%   81.35%       330  \n",
       "  foliage      65.69%   20.30%   31.02%       330  \n",
       "    grass     100.00%   96.97%   98.46%       330  \n",
       "     path      90.63%   91.19%   90.91%       329  \n",
       "      sky      99.08%   98.18%   98.63%       330  \n",
       "   window      43.50%   67.88%   53.02%       330  \n",
       "                                                   \n",
       "    Macro      79.28%   77.62%   76.31%            \n",
       "    Micro      77.61%   77.61%   77.61%            \n",
       " Weighted      79.27%   77.61%   76.31%            \n",
       "\n",
       "                  77.61% accuracy                  "
      ]
     },
     "execution_count": 2,
     "metadata": {},
     "output_type": "execute_result"
    }
   ],
   "source": [
    "# Define the model\n",
    "model = tree.HoeffdingTreeClassifier()\n",
    "metric = metrics.ClassificationReport()\n",
    "\n",
    "for x,y in dataset:\n",
    "    y_pred = model.predict_one(x)\n",
    "    model.learn_one(x,y)\n",
    "    if y_pred is not None:\n",
    "        metric.update(y, y_pred)\n",
    "metric"
   ]
  },
  {
   "cell_type": "code",
   "execution_count": 4,
   "metadata": {},
   "outputs": [
    {
     "data": {
      "text/plain": [
       "            Precision   Recall   F1       Support  \n",
       "                                                   \n",
       "brickface      76.18%   90.61%   82.77%       660  \n",
       "   cement      80.86%   85.15%   82.95%       660  \n",
       "  foliage      67.76%   18.79%   29.42%       660  \n",
       "    grass     100.00%   97.58%   98.77%       660  \n",
       "     path      94.31%   93.02%   93.66%       659  \n",
       "      sky      99.39%   98.64%   99.01%       660  \n",
       "   window      44.09%   67.27%   53.27%       660  \n",
       "                                                   \n",
       "    Macro      80.37%   78.72%   77.12%            \n",
       "    Micro      78.72%   78.72%   78.72%            \n",
       " Weighted      80.37%   78.72%   77.12%            \n",
       "\n",
       "                  78.72% accuracy                  "
      ]
     },
     "execution_count": 4,
     "metadata": {},
     "output_type": "execute_result"
    }
   ],
   "source": [
    "# Evaluate the model\n",
    "evaluate.progressive_val_score(dataset, model, metric)"
   ]
  }
 ],
 "metadata": {
  "kernelspec": {
   "display_name": "base",
   "language": "python",
   "name": "python3"
  },
  "language_info": {
   "codemirror_mode": {
    "name": "ipython",
    "version": 3
   },
   "file_extension": ".py",
   "mimetype": "text/x-python",
   "name": "python",
   "nbconvert_exporter": "python",
   "pygments_lexer": "ipython3",
   "version": "3.9.13"
  },
  "orig_nbformat": 4
 },
 "nbformat": 4,
 "nbformat_minor": 2
}
